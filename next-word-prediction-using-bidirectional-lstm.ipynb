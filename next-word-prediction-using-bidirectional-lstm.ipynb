{
 "cells": [
  {
   "cell_type": "code",
   "execution_count": 1,
   "id": "a18170ef",
   "metadata": {
    "execution": {
     "iopub.execute_input": "2024-01-03T18:25:10.427055Z",
     "iopub.status.busy": "2024-01-03T18:25:10.426419Z",
     "iopub.status.idle": "2024-01-03T18:25:41.367534Z",
     "shell.execute_reply": "2024-01-03T18:25:41.366648Z"
    },
    "papermill": {
     "duration": 30.951953,
     "end_time": "2024-01-03T18:25:41.370119",
     "exception": false,
     "start_time": "2024-01-03T18:25:10.418166",
     "status": "completed"
    },
    "tags": []
   },
   "outputs": [
    {
     "name": "stderr",
     "output_type": "stream",
     "text": [
      "/opt/conda/lib/python3.10/site-packages/scipy/__init__.py:146: UserWarning: A NumPy version >=1.16.5 and <1.23.0 is required for this version of SciPy (detected version 1.24.3\n",
      "  warnings.warn(f\"A NumPy version >={np_minversion} and <{np_maxversion}\"\n"
     ]
    }
   ],
   "source": [
    "import numpy as np\n",
    "import pandas as pd\n",
    "import matplotlib.pyplot as plt\n",
    "import seaborn as sns\n",
    "import nltk\n",
    "from nltk.corpus import stopwords\n",
    "import re\n",
    "import tensorflow as tf\n",
    "import keras\n",
    "import gensim\n",
    "from keras.preprocessing.text import Tokenizer\n",
    "from keras.preprocessing.sequence import pad_sequences\n",
    "from keras.utils import to_categorical\n",
    "from keras.callbacks import EarlyStopping,ReduceLROnPlateau\n",
    "from keras.models import Sequential\n",
    "from keras.layers import Dense,Dropout,Bidirectional,LSTM,Embedding"
   ]
  },
  {
   "cell_type": "markdown",
   "id": "7e77130f",
   "metadata": {
    "papermill": {
     "duration": 0.006614,
     "end_time": "2024-01-03T18:25:41.383965",
     "exception": false,
     "start_time": "2024-01-03T18:25:41.377351",
     "status": "completed"
    },
    "tags": []
   },
   "source": [
    "### Loading dataset"
   ]
  },
  {
   "cell_type": "code",
   "execution_count": 2,
   "id": "b3971af9",
   "metadata": {
    "execution": {
     "iopub.execute_input": "2024-01-03T18:25:41.398580Z",
     "iopub.status.busy": "2024-01-03T18:25:41.397961Z",
     "iopub.status.idle": "2024-01-03T18:25:41.492305Z",
     "shell.execute_reply": "2024-01-03T18:25:41.491595Z"
    },
    "papermill": {
     "duration": 0.103984,
     "end_time": "2024-01-03T18:25:41.494516",
     "exception": false,
     "start_time": "2024-01-03T18:25:41.390532",
     "status": "completed"
    },
    "tags": []
   },
   "outputs": [],
   "source": [
    "df = pd.read_csv('/kaggle/input/medium-articles-dataset/medium_data.csv')"
   ]
  },
  {
   "cell_type": "code",
   "execution_count": 3,
   "id": "158c3023",
   "metadata": {
    "execution": {
     "iopub.execute_input": "2024-01-03T18:25:41.509822Z",
     "iopub.status.busy": "2024-01-03T18:25:41.509286Z",
     "iopub.status.idle": "2024-01-03T18:25:41.530396Z",
     "shell.execute_reply": "2024-01-03T18:25:41.529624Z"
    },
    "papermill": {
     "duration": 0.030771,
     "end_time": "2024-01-03T18:25:41.532293",
     "exception": false,
     "start_time": "2024-01-03T18:25:41.501522",
     "status": "completed"
    },
    "tags": []
   },
   "outputs": [
    {
     "data": {
      "text/html": [
       "<div>\n",
       "<style scoped>\n",
       "    .dataframe tbody tr th:only-of-type {\n",
       "        vertical-align: middle;\n",
       "    }\n",
       "\n",
       "    .dataframe tbody tr th {\n",
       "        vertical-align: top;\n",
       "    }\n",
       "\n",
       "    .dataframe thead th {\n",
       "        text-align: right;\n",
       "    }\n",
       "</style>\n",
       "<table border=\"1\" class=\"dataframe\">\n",
       "  <thead>\n",
       "    <tr style=\"text-align: right;\">\n",
       "      <th></th>\n",
       "      <th>id</th>\n",
       "      <th>url</th>\n",
       "      <th>title</th>\n",
       "      <th>subtitle</th>\n",
       "      <th>image</th>\n",
       "      <th>claps</th>\n",
       "      <th>responses</th>\n",
       "      <th>reading_time</th>\n",
       "      <th>publication</th>\n",
       "      <th>date</th>\n",
       "    </tr>\n",
       "  </thead>\n",
       "  <tbody>\n",
       "    <tr>\n",
       "      <th>0</th>\n",
       "      <td>1</td>\n",
       "      <td>https://towardsdatascience.com/a-beginners-gui...</td>\n",
       "      <td>A Beginner’s Guide to Word Embedding with Gens...</td>\n",
       "      <td>NaN</td>\n",
       "      <td>1.png</td>\n",
       "      <td>850</td>\n",
       "      <td>8</td>\n",
       "      <td>8</td>\n",
       "      <td>Towards Data Science</td>\n",
       "      <td>2019-05-30</td>\n",
       "    </tr>\n",
       "    <tr>\n",
       "      <th>1</th>\n",
       "      <td>2</td>\n",
       "      <td>https://towardsdatascience.com/hands-on-graph-...</td>\n",
       "      <td>Hands-on Graph Neural Networks with PyTorch &amp; ...</td>\n",
       "      <td>NaN</td>\n",
       "      <td>2.png</td>\n",
       "      <td>1100</td>\n",
       "      <td>11</td>\n",
       "      <td>9</td>\n",
       "      <td>Towards Data Science</td>\n",
       "      <td>2019-05-30</td>\n",
       "    </tr>\n",
       "    <tr>\n",
       "      <th>2</th>\n",
       "      <td>3</td>\n",
       "      <td>https://towardsdatascience.com/how-to-use-ggpl...</td>\n",
       "      <td>How to Use ggplot2 in Python</td>\n",
       "      <td>A Grammar of Graphics for Python</td>\n",
       "      <td>3.png</td>\n",
       "      <td>767</td>\n",
       "      <td>1</td>\n",
       "      <td>5</td>\n",
       "      <td>Towards Data Science</td>\n",
       "      <td>2019-05-30</td>\n",
       "    </tr>\n",
       "    <tr>\n",
       "      <th>3</th>\n",
       "      <td>4</td>\n",
       "      <td>https://towardsdatascience.com/databricks-how-...</td>\n",
       "      <td>Databricks: How to Save Files in CSV on Your L...</td>\n",
       "      <td>When I work on Python projects dealing…</td>\n",
       "      <td>4.jpeg</td>\n",
       "      <td>354</td>\n",
       "      <td>0</td>\n",
       "      <td>4</td>\n",
       "      <td>Towards Data Science</td>\n",
       "      <td>2019-05-30</td>\n",
       "    </tr>\n",
       "    <tr>\n",
       "      <th>4</th>\n",
       "      <td>5</td>\n",
       "      <td>https://towardsdatascience.com/a-step-by-step-...</td>\n",
       "      <td>A Step-by-Step Implementation of Gradient Desc...</td>\n",
       "      <td>One example of building neural…</td>\n",
       "      <td>5.jpeg</td>\n",
       "      <td>211</td>\n",
       "      <td>3</td>\n",
       "      <td>4</td>\n",
       "      <td>Towards Data Science</td>\n",
       "      <td>2019-05-30</td>\n",
       "    </tr>\n",
       "  </tbody>\n",
       "</table>\n",
       "</div>"
      ],
      "text/plain": [
       "   id                                                url  \\\n",
       "0   1  https://towardsdatascience.com/a-beginners-gui...   \n",
       "1   2  https://towardsdatascience.com/hands-on-graph-...   \n",
       "2   3  https://towardsdatascience.com/how-to-use-ggpl...   \n",
       "3   4  https://towardsdatascience.com/databricks-how-...   \n",
       "4   5  https://towardsdatascience.com/a-step-by-step-...   \n",
       "\n",
       "                                               title  \\\n",
       "0  A Beginner’s Guide to Word Embedding with Gens...   \n",
       "1  Hands-on Graph Neural Networks with PyTorch & ...   \n",
       "2                       How to Use ggplot2 in Python   \n",
       "3  Databricks: How to Save Files in CSV on Your L...   \n",
       "4  A Step-by-Step Implementation of Gradient Desc...   \n",
       "\n",
       "                                  subtitle   image  claps responses  \\\n",
       "0                                      NaN   1.png    850         8   \n",
       "1                                      NaN   2.png   1100        11   \n",
       "2         A Grammar of Graphics for Python   3.png    767         1   \n",
       "3  When I work on Python projects dealing…  4.jpeg    354         0   \n",
       "4          One example of building neural…  5.jpeg    211         3   \n",
       "\n",
       "   reading_time           publication        date  \n",
       "0             8  Towards Data Science  2019-05-30  \n",
       "1             9  Towards Data Science  2019-05-30  \n",
       "2             5  Towards Data Science  2019-05-30  \n",
       "3             4  Towards Data Science  2019-05-30  \n",
       "4             4  Towards Data Science  2019-05-30  "
      ]
     },
     "execution_count": 3,
     "metadata": {},
     "output_type": "execute_result"
    }
   ],
   "source": [
    "df.head()"
   ]
  },
  {
   "cell_type": "code",
   "execution_count": 4,
   "id": "c85e05c9",
   "metadata": {
    "execution": {
     "iopub.execute_input": "2024-01-03T18:25:41.547516Z",
     "iopub.status.busy": "2024-01-03T18:25:41.547005Z",
     "iopub.status.idle": "2024-01-03T18:25:41.552116Z",
     "shell.execute_reply": "2024-01-03T18:25:41.551264Z"
    },
    "papermill": {
     "duration": 0.01475,
     "end_time": "2024-01-03T18:25:41.553974",
     "exception": false,
     "start_time": "2024-01-03T18:25:41.539224",
     "status": "completed"
    },
    "tags": []
   },
   "outputs": [
    {
     "data": {
      "text/plain": [
       "(6508, 10)"
      ]
     },
     "execution_count": 4,
     "metadata": {},
     "output_type": "execute_result"
    }
   ],
   "source": [
    "df.shape"
   ]
  },
  {
   "cell_type": "code",
   "execution_count": 5,
   "id": "ce918c6f",
   "metadata": {
    "execution": {
     "iopub.execute_input": "2024-01-03T18:25:41.569390Z",
     "iopub.status.busy": "2024-01-03T18:25:41.569155Z",
     "iopub.status.idle": "2024-01-03T18:25:41.580889Z",
     "shell.execute_reply": "2024-01-03T18:25:41.580097Z"
    },
    "papermill": {
     "duration": 0.021754,
     "end_time": "2024-01-03T18:25:41.582687",
     "exception": false,
     "start_time": "2024-01-03T18:25:41.560933",
     "status": "completed"
    },
    "tags": []
   },
   "outputs": [
    {
     "data": {
      "text/plain": [
       "id                 0\n",
       "url                0\n",
       "title              0\n",
       "subtitle        3029\n",
       "image            147\n",
       "claps              0\n",
       "responses          0\n",
       "reading_time       0\n",
       "publication        0\n",
       "date               0\n",
       "dtype: int64"
      ]
     },
     "execution_count": 5,
     "metadata": {},
     "output_type": "execute_result"
    }
   ],
   "source": [
    "df.isnull().sum()"
   ]
  },
  {
   "cell_type": "code",
   "execution_count": 6,
   "id": "1bf38fb0",
   "metadata": {
    "execution": {
     "iopub.execute_input": "2024-01-03T18:25:41.598117Z",
     "iopub.status.busy": "2024-01-03T18:25:41.597880Z",
     "iopub.status.idle": "2024-01-03T18:25:41.601587Z",
     "shell.execute_reply": "2024-01-03T18:25:41.600874Z"
    },
    "papermill": {
     "duration": 0.013532,
     "end_time": "2024-01-03T18:25:41.603580",
     "exception": false,
     "start_time": "2024-01-03T18:25:41.590048",
     "status": "completed"
    },
    "tags": []
   },
   "outputs": [],
   "source": [
    "data = df['title']"
   ]
  },
  {
   "cell_type": "markdown",
   "id": "3b3f86e9",
   "metadata": {
    "papermill": {
     "duration": 0.007442,
     "end_time": "2024-01-03T18:25:41.618495",
     "exception": false,
     "start_time": "2024-01-03T18:25:41.611053",
     "status": "completed"
    },
    "tags": []
   },
   "source": [
    "### Text Preprocessing"
   ]
  },
  {
   "cell_type": "code",
   "execution_count": 7,
   "id": "b21da56a",
   "metadata": {
    "execution": {
     "iopub.execute_input": "2024-01-03T18:25:41.634142Z",
     "iopub.status.busy": "2024-01-03T18:25:41.633597Z",
     "iopub.status.idle": "2024-01-03T18:25:41.642413Z",
     "shell.execute_reply": "2024-01-03T18:25:41.641638Z"
    },
    "papermill": {
     "duration": 0.01877,
     "end_time": "2024-01-03T18:25:41.644540",
     "exception": false,
     "start_time": "2024-01-03T18:25:41.625770",
     "status": "completed"
    },
    "tags": []
   },
   "outputs": [],
   "source": [
    "stopword_ = stopwords.words('english')"
   ]
  },
  {
   "cell_type": "code",
   "execution_count": 8,
   "id": "fd41711b",
   "metadata": {
    "execution": {
     "iopub.execute_input": "2024-01-03T18:25:41.659902Z",
     "iopub.status.busy": "2024-01-03T18:25:41.659441Z",
     "iopub.status.idle": "2024-01-03T18:25:41.664780Z",
     "shell.execute_reply": "2024-01-03T18:25:41.663911Z"
    },
    "papermill": {
     "duration": 0.014934,
     "end_time": "2024-01-03T18:25:41.666595",
     "exception": false,
     "start_time": "2024-01-03T18:25:41.651661",
     "status": "completed"
    },
    "tags": []
   },
   "outputs": [],
   "source": [
    "def preprocessing(text):\n",
    "    \n",
    "    preprocessed_text =[]\n",
    "    for i in range(len(text)):\n",
    "        title_text = re.sub(\"[^A-Za-z]\",\" \",text[i])\n",
    "        title_text = title_text.lower().split()\n",
    "        words = [x for x in title_text if not x in stopword_]\n",
    "        sentence = ' '.join(words)\n",
    "        preprocessed_text.append(sentence)\n",
    "    return preprocessed_text"
   ]
  },
  {
   "cell_type": "code",
   "execution_count": 9,
   "id": "daae4c29",
   "metadata": {
    "execution": {
     "iopub.execute_input": "2024-01-03T18:25:41.681866Z",
     "iopub.status.busy": "2024-01-03T18:25:41.681452Z",
     "iopub.status.idle": "2024-01-03T18:25:41.870852Z",
     "shell.execute_reply": "2024-01-03T18:25:41.870213Z"
    },
    "papermill": {
     "duration": 0.199029,
     "end_time": "2024-01-03T18:25:41.872783",
     "exception": false,
     "start_time": "2024-01-03T18:25:41.673754",
     "status": "completed"
    },
    "tags": []
   },
   "outputs": [],
   "source": [
    "text = preprocessing(data)"
   ]
  },
  {
   "cell_type": "code",
   "execution_count": 10,
   "id": "4123a596",
   "metadata": {
    "execution": {
     "iopub.execute_input": "2024-01-03T18:25:41.888625Z",
     "iopub.status.busy": "2024-01-03T18:25:41.888336Z",
     "iopub.status.idle": "2024-01-03T18:25:41.894445Z",
     "shell.execute_reply": "2024-01-03T18:25:41.893580Z"
    },
    "papermill": {
     "duration": 0.016399,
     "end_time": "2024-01-03T18:25:41.896259",
     "exception": false,
     "start_time": "2024-01-03T18:25:41.879860",
     "status": "completed"
    },
    "tags": []
   },
   "outputs": [],
   "source": [
    "max_len=[]\n",
    "for i in range(len(text)):\n",
    "    max_len.append(len(text[i]))\n",
    "length = max(max_len)"
   ]
  },
  {
   "cell_type": "markdown",
   "id": "91599be9",
   "metadata": {
    "papermill": {
     "duration": 0.007005,
     "end_time": "2024-01-03T18:25:41.910917",
     "exception": false,
     "start_time": "2024-01-03T18:25:41.903912",
     "status": "completed"
    },
    "tags": []
   },
   "source": [
    "### Tokenization"
   ]
  },
  {
   "cell_type": "code",
   "execution_count": 11,
   "id": "e5608b2d",
   "metadata": {
    "execution": {
     "iopub.execute_input": "2024-01-03T18:25:41.926408Z",
     "iopub.status.busy": "2024-01-03T18:25:41.925971Z",
     "iopub.status.idle": "2024-01-03T18:25:42.123686Z",
     "shell.execute_reply": "2024-01-03T18:25:42.122876Z"
    },
    "papermill": {
     "duration": 0.207955,
     "end_time": "2024-01-03T18:25:42.125896",
     "exception": false,
     "start_time": "2024-01-03T18:25:41.917941",
     "status": "completed"
    },
    "tags": []
   },
   "outputs": [],
   "source": [
    "max_feature =2000\n",
    "tokenizer = Tokenizer(num_words=max_feature)\n",
    "tokenizer.fit_on_texts(text)\n",
    "sequences = tokenizer.texts_to_sequences(text)\n",
    "final_text = pad_sequences(sequences,maxlen=length)"
   ]
  },
  {
   "cell_type": "code",
   "execution_count": 12,
   "id": "14720f42",
   "metadata": {
    "execution": {
     "iopub.execute_input": "2024-01-03T18:25:42.142265Z",
     "iopub.status.busy": "2024-01-03T18:25:42.141915Z",
     "iopub.status.idle": "2024-01-03T18:25:42.145972Z",
     "shell.execute_reply": "2024-01-03T18:25:42.145206Z"
    },
    "papermill": {
     "duration": 0.014025,
     "end_time": "2024-01-03T18:25:42.147836",
     "exception": false,
     "start_time": "2024-01-03T18:25:42.133811",
     "status": "completed"
    },
    "tags": []
   },
   "outputs": [],
   "source": [
    "vocab_size = len(tokenizer.word_index)+1"
   ]
  },
  {
   "cell_type": "code",
   "execution_count": 13,
   "id": "56d58b47",
   "metadata": {
    "execution": {
     "iopub.execute_input": "2024-01-03T18:25:42.163192Z",
     "iopub.status.busy": "2024-01-03T18:25:42.162646Z",
     "iopub.status.idle": "2024-01-03T18:25:42.182124Z",
     "shell.execute_reply": "2024-01-03T18:25:42.181472Z"
    },
    "papermill": {
     "duration": 0.029169,
     "end_time": "2024-01-03T18:25:42.184096",
     "exception": false,
     "start_time": "2024-01-03T18:25:42.154927",
     "status": "completed"
    },
    "tags": []
   },
   "outputs": [],
   "source": [
    "sentence = final_text[:,:-1]\n",
    "label = final_text[:,-1]\n",
    "y_label = to_categorical(label, num_classes=vocab_size) "
   ]
  },
  {
   "cell_type": "markdown",
   "id": "89749a96",
   "metadata": {
    "papermill": {
     "duration": 0.006932,
     "end_time": "2024-01-03T18:25:42.198308",
     "exception": false,
     "start_time": "2024-01-03T18:25:42.191376",
     "status": "completed"
    },
    "tags": []
   },
   "source": [
    "### Model Architecture"
   ]
  },
  {
   "cell_type": "code",
   "execution_count": 14,
   "id": "87e26337",
   "metadata": {
    "execution": {
     "iopub.execute_input": "2024-01-03T18:25:42.214499Z",
     "iopub.status.busy": "2024-01-03T18:25:42.213894Z",
     "iopub.status.idle": "2024-01-03T18:25:46.927081Z",
     "shell.execute_reply": "2024-01-03T18:25:46.926323Z"
    },
    "papermill": {
     "duration": 4.723588,
     "end_time": "2024-01-03T18:25:46.929369",
     "exception": false,
     "start_time": "2024-01-03T18:25:42.205781",
     "status": "completed"
    },
    "tags": []
   },
   "outputs": [],
   "source": [
    "model = Sequential()\n",
    "model.add(Embedding(input_dim=vocab_size,output_dim=100,input_length=length-1))\n",
    "model.add(Bidirectional(LSTM(200)))\n",
    "model.add(Dense(vocab_size,activation='softmax'))\n",
    "\n",
    "model.compile(optimizer = 'adam',loss='categorical_crossentropy',metrics=['accuracy'])"
   ]
  },
  {
   "cell_type": "markdown",
   "id": "d937fb18",
   "metadata": {
    "papermill": {
     "duration": 0.007755,
     "end_time": "2024-01-03T18:25:46.945605",
     "exception": false,
     "start_time": "2024-01-03T18:25:46.937850",
     "status": "completed"
    },
    "tags": []
   },
   "source": [
    "### Model training"
   ]
  },
  {
   "cell_type": "code",
   "execution_count": 15,
   "id": "2bf935d7",
   "metadata": {
    "execution": {
     "iopub.execute_input": "2024-01-03T18:25:46.961379Z",
     "iopub.status.busy": "2024-01-03T18:25:46.960883Z",
     "iopub.status.idle": "2024-01-03T18:30:36.072067Z",
     "shell.execute_reply": "2024-01-03T18:30:36.071078Z"
    },
    "papermill": {
     "duration": 289.121429,
     "end_time": "2024-01-03T18:30:36.074359",
     "exception": false,
     "start_time": "2024-01-03T18:25:46.952930",
     "status": "completed"
    },
    "tags": []
   },
   "outputs": [
    {
     "name": "stdout",
     "output_type": "stream",
     "text": [
      "Epoch 1/50\n",
      "204/204 [==============================] - 23s 71ms/step - loss: 7.5988 - accuracy: 0.0513\n",
      "Epoch 2/50\n",
      "204/204 [==============================] - 6s 32ms/step - loss: 6.7520 - accuracy: 0.0621\n",
      "Epoch 3/50\n",
      "204/204 [==============================] - 6s 27ms/step - loss: 6.5321 - accuracy: 0.0756\n",
      "Epoch 4/50\n",
      "204/204 [==============================] - 6s 31ms/step - loss: 6.3898 - accuracy: 0.0847\n",
      "Epoch 5/50\n",
      "204/204 [==============================] - 6s 28ms/step - loss: 6.2366 - accuracy: 0.0988\n",
      "Epoch 6/50\n",
      "204/204 [==============================] - 5s 25ms/step - loss: 6.0755 - accuracy: 0.1036\n",
      "Epoch 7/50\n",
      "204/204 [==============================] - 5s 26ms/step - loss: 5.9215 - accuracy: 0.1097\n",
      "Epoch 8/50\n",
      "204/204 [==============================] - 5s 27ms/step - loss: 5.7725 - accuracy: 0.1191\n",
      "Epoch 9/50\n",
      "204/204 [==============================] - 6s 28ms/step - loss: 5.6197 - accuracy: 0.1235\n",
      "Epoch 10/50\n",
      "204/204 [==============================] - 5s 27ms/step - loss: 5.4569 - accuracy: 0.1331\n",
      "Epoch 11/50\n",
      "204/204 [==============================] - 5s 26ms/step - loss: 5.2719 - accuracy: 0.1404\n",
      "Epoch 12/50\n",
      "204/204 [==============================] - 6s 27ms/step - loss: 5.0699 - accuracy: 0.1544\n",
      "Epoch 13/50\n",
      "204/204 [==============================] - 5s 25ms/step - loss: 4.8464 - accuracy: 0.1659\n",
      "Epoch 14/50\n",
      "204/204 [==============================] - 6s 28ms/step - loss: 4.6024 - accuracy: 0.1878\n",
      "Epoch 15/50\n",
      "204/204 [==============================] - 6s 28ms/step - loss: 4.3432 - accuracy: 0.2157\n",
      "Epoch 16/50\n",
      "204/204 [==============================] - 5s 26ms/step - loss: 4.0756 - accuracy: 0.2468\n",
      "Epoch 17/50\n",
      "204/204 [==============================] - 5s 26ms/step - loss: 3.8011 - accuracy: 0.2927\n",
      "Epoch 18/50\n",
      "204/204 [==============================] - 6s 28ms/step - loss: 3.5292 - accuracy: 0.3411\n",
      "Epoch 19/50\n",
      "204/204 [==============================] - 6s 27ms/step - loss: 3.2486 - accuracy: 0.4017\n",
      "Epoch 20/50\n",
      "204/204 [==============================] - 5s 26ms/step - loss: 2.9850 - accuracy: 0.4660\n",
      "Epoch 21/50\n",
      "204/204 [==============================] - 6s 27ms/step - loss: 2.7265 - accuracy: 0.5212\n",
      "Epoch 22/50\n",
      "204/204 [==============================] - 5s 26ms/step - loss: 2.4875 - accuracy: 0.5744\n",
      "Epoch 23/50\n",
      "204/204 [==============================] - 6s 28ms/step - loss: 2.2644 - accuracy: 0.6183\n",
      "Epoch 24/50\n",
      "204/204 [==============================] - 5s 27ms/step - loss: 2.0596 - accuracy: 0.6586\n",
      "Epoch 25/50\n",
      "204/204 [==============================] - 5s 26ms/step - loss: 1.8811 - accuracy: 0.6970\n",
      "Epoch 26/50\n",
      "204/204 [==============================] - 5s 26ms/step - loss: 1.7161 - accuracy: 0.7294\n",
      "Epoch 27/50\n",
      "204/204 [==============================] - 5s 27ms/step - loss: 1.5720 - accuracy: 0.7563\n",
      "Epoch 28/50\n",
      "204/204 [==============================] - 5s 27ms/step - loss: 1.4453 - accuracy: 0.7707\n",
      "Epoch 29/50\n",
      "204/204 [==============================] - 5s 27ms/step - loss: 1.3421 - accuracy: 0.7869\n",
      "Epoch 30/50\n",
      "204/204 [==============================] - 5s 26ms/step - loss: 1.2448 - accuracy: 0.8058\n",
      "Epoch 31/50\n",
      "204/204 [==============================] - 5s 26ms/step - loss: 1.1654 - accuracy: 0.8128\n",
      "Epoch 32/50\n",
      "204/204 [==============================] - 6s 27ms/step - loss: 1.1984 - accuracy: 0.8113\n",
      "Epoch 33/50\n",
      "204/204 [==============================] - 5s 26ms/step - loss: 1.0941 - accuracy: 0.8222\n",
      "Epoch 34/50\n",
      "204/204 [==============================] - 5s 26ms/step - loss: 1.0066 - accuracy: 0.8256\n",
      "Epoch 35/50\n",
      "204/204 [==============================] - 5s 27ms/step - loss: 0.9645 - accuracy: 0.8291\n",
      "Epoch 36/50\n",
      "204/204 [==============================] - 5s 26ms/step - loss: 0.9818 - accuracy: 0.8284\n",
      "Epoch 37/50\n",
      "204/204 [==============================] - 5s 26ms/step - loss: 0.9111 - accuracy: 0.8310\n",
      "Epoch 38/50\n",
      "204/204 [==============================] - 5s 26ms/step - loss: 0.8767 - accuracy: 0.8325\n",
      "Epoch 39/50\n",
      "204/204 [==============================] - 5s 26ms/step - loss: 0.8519 - accuracy: 0.8345\n",
      "Epoch 40/50\n",
      "204/204 [==============================] - 5s 26ms/step - loss: 0.8372 - accuracy: 0.8331\n",
      "Epoch 41/50\n",
      "204/204 [==============================] - 5s 26ms/step - loss: 0.8222 - accuracy: 0.8339\n",
      "Epoch 42/50\n",
      "204/204 [==============================] - 5s 26ms/step - loss: 0.8106 - accuracy: 0.8331\n",
      "Epoch 43/50\n",
      "204/204 [==============================] - 5s 27ms/step - loss: 0.8015 - accuracy: 0.8342\n",
      "Epoch 44/50\n",
      "204/204 [==============================] - 5s 26ms/step - loss: 0.7905 - accuracy: 0.8353\n",
      "Epoch 45/50\n",
      "204/204 [==============================] - 5s 26ms/step - loss: 0.7860 - accuracy: 0.8337\n",
      "Epoch 46/50\n",
      "204/204 [==============================] - 5s 26ms/step - loss: 0.7804 - accuracy: 0.8310\n",
      "Epoch 47/50\n",
      "204/204 [==============================] - 5s 26ms/step - loss: 0.7744 - accuracy: 0.8341\n",
      "Epoch 48/50\n",
      "204/204 [==============================] - 5s 26ms/step - loss: 0.7675 - accuracy: 0.8337\n",
      "Epoch 49/50\n",
      "204/204 [==============================] - 5s 27ms/step - loss: 0.7651 - accuracy: 0.8314\n",
      "Epoch 50/50\n",
      "204/204 [==============================] - 5s 26ms/step - loss: 0.7610 - accuracy: 0.8333\n"
     ]
    }
   ],
   "source": [
    "history = model.fit(sentence,y_label,epochs=50)"
   ]
  },
  {
   "cell_type": "markdown",
   "id": "bbef53f9",
   "metadata": {
    "papermill": {
     "duration": 0.434725,
     "end_time": "2024-01-03T18:30:36.899088",
     "exception": false,
     "start_time": "2024-01-03T18:30:36.464363",
     "status": "completed"
    },
    "tags": []
   },
   "source": [
    "### Plotting graph"
   ]
  },
  {
   "cell_type": "code",
   "execution_count": 16,
   "id": "91a26a40",
   "metadata": {
    "execution": {
     "iopub.execute_input": "2024-01-03T18:30:37.680287Z",
     "iopub.status.busy": "2024-01-03T18:30:37.679423Z",
     "iopub.status.idle": "2024-01-03T18:30:37.684742Z",
     "shell.execute_reply": "2024-01-03T18:30:37.683872Z"
    },
    "papermill": {
     "duration": 0.399259,
     "end_time": "2024-01-03T18:30:37.686558",
     "exception": false,
     "start_time": "2024-01-03T18:30:37.287299",
     "status": "completed"
    },
    "tags": []
   },
   "outputs": [],
   "source": [
    "def plot_graph(string):\n",
    "    plt.figure(figsize=(5,4))\n",
    "    plt.plot(history.history[string])\n",
    "    plt.xlabel('Epochs')\n",
    "    plt.ylabel(string)\n",
    "    plt.show()"
   ]
  },
  {
   "cell_type": "code",
   "execution_count": 17,
   "id": "b880ab01",
   "metadata": {
    "execution": {
     "iopub.execute_input": "2024-01-03T18:30:38.469227Z",
     "iopub.status.busy": "2024-01-03T18:30:38.468867Z",
     "iopub.status.idle": "2024-01-03T18:30:38.659044Z",
     "shell.execute_reply": "2024-01-03T18:30:38.658211Z"
    },
    "papermill": {
     "duration": 0.585636,
     "end_time": "2024-01-03T18:30:38.661293",
     "exception": false,
     "start_time": "2024-01-03T18:30:38.075657",
     "status": "completed"
    },
    "tags": []
   },
   "outputs": [
    {
     "data": {
      "image/png": "[encoded data removed]",
      "text/plain": [
       "<Figure size 500x400 with 1 Axes>"
      ]
     },
     "metadata": {},
     "output_type": "display_data"
    }
   ],
   "source": [
    "plot_graph('loss')"
   ]
  },
  {
   "cell_type": "code",
   "execution_count": 18,
   "id": "7fdf255c",
   "metadata": {
    "execution": {
     "iopub.execute_input": "2024-01-03T18:30:39.494342Z",
     "iopub.status.busy": "2024-01-03T18:30:39.493500Z",
     "iopub.status.idle": "2024-01-03T18:30:39.666538Z",
     "shell.execute_reply": "2024-01-03T18:30:39.665636Z"
    },
    "papermill": {
     "duration": 0.611971,
     "end_time": "2024-01-03T18:30:39.668722",
     "exception": false,
     "start_time": "2024-01-03T18:30:39.056751",
     "status": "completed"
    },
    "tags": []
   },
   "outputs": [
    {
     "data": {
      "image/png": "[encoded data removed]",
      "text/plain": [
       "<Figure size 500x400 with 1 Axes>"
      ]
     },
     "metadata": {},
     "output_type": "display_data"
    }
   ],
   "source": [
    "plot_graph('accuracy')"
   ]
  },
  {
   "cell_type": "markdown",
   "id": "073aa994",
   "metadata": {
    "papermill": {
     "duration": 0.389358,
     "end_time": "2024-01-03T18:30:40.445604",
     "exception": false,
     "start_time": "2024-01-03T18:30:40.056246",
     "status": "completed"
    },
    "tags": []
   },
   "source": [
    "### Model Prediction"
   ]
  },
  {
   "cell_type": "code",
   "execution_count": 19,
   "id": "48c74fec",
   "metadata": {
    "execution": {
     "iopub.execute_input": "2024-01-03T18:30:41.228093Z",
     "iopub.status.busy": "2024-01-03T18:30:41.227720Z",
     "iopub.status.idle": "2024-01-03T18:30:42.037493Z",
     "shell.execute_reply": "2024-01-03T18:30:42.036590Z"
    },
    "papermill": {
     "duration": 1.200946,
     "end_time": "2024-01-03T18:30:42.039499",
     "exception": false,
     "start_time": "2024-01-03T18:30:40.838553",
     "status": "completed"
    },
    "tags": []
   },
   "outputs": [
    {
     "name": "stdout",
     "output_type": "stream",
     "text": [
      "1/1 [==============================] - 1s 693ms/step\n",
      "1/1 [==============================] - 0s 24ms/step\n",
      "implementation of lstm algorithms\n"
     ]
    }
   ],
   "source": [
    "seed_text = \"implementation of\"\n",
    "next_words = 2\n",
    "  \n",
    "for _ in range(next_words):\n",
    "    token_list = tokenizer.texts_to_sequences([seed_text])[0]\n",
    "    token_list = pad_sequences([token_list], maxlen=length-1, padding='pre')\n",
    "    predicted = np.argmax(model.predict(token_list), axis=-1)\n",
    "    output_word = \"\"\n",
    "    for word, index in tokenizer.word_index.items():\n",
    "        if index == predicted:\n",
    "            output_word = word\n",
    "            break\n",
    "    seed_text += \" \" + output_word\n",
    "print(seed_text)"
   ]
  }
 ],
 "metadata": {
  "kaggle": {
   "accelerator": "nvidiaTeslaT4",
   "dataSources": [
    {
     "datasetId": 748442,
     "sourceId": 1294572,
     "sourceType": "datasetVersion"
    }
   ],
   "dockerImageVersionId": 30627,
   "isGpuEnabled": true,
   "isInternetEnabled": true,
   "language": "python",
   "sourceType": "notebook"
  },
  "kernelspec": {
   "display_name": "Python 3",
   "language": "python",
   "name": "python3"
  },
  "language_info": {
   "codemirror_mode": {
    "name": "ipython",
    "version": 3
   },
   "file_extension": ".py",
   "mimetype": "text/x-python",
   "name": "python",
   "nbconvert_exporter": "python",
   "pygments_lexer": "ipython3",
   "version": "3.10.12"
  },
  "papermill": {
   "default_parameters": {},
   "duration": 338.853049,
   "end_time": "2024-01-03T18:30:45.757251",
   "environment_variables": {},
   "exception": null,
   "input_path": "__notebook__.ipynb",
   "output_path": "__notebook__.ipynb",
   "parameters": {},
   "start_time": "2024-01-03T18:25:06.904202",
   "version": "2.4.0"
  }
 },
 "nbformat": 4,
 "nbformat_minor": 5
}
